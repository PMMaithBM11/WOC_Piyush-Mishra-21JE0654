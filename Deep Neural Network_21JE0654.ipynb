{
  "nbformat": 4,
  "nbformat_minor": 0,
  "metadata": {
    "colab": {
      "name": "softmax",
      "provenance": [],
      "collapsed_sections": []
    },
    "kernelspec": {
      "name": "python3",
      "display_name": "Python 3"
    },
    "language_info": {
      "name": "python"
    }
  },
  "cells": [
    {
      "cell_type": "code",
      "execution_count": 1,
      "metadata": {
        "id": "Uz06eeeUE-iZ"
      },
      "outputs": [],
      "source": [
        "\n",
        "import numpy as np\n",
        "import pandas as pd\n",
        "import matplotlib\n",
        "import matplotlib.pyplot as plt\n",
        "%matplotlib inline\n",
        "from sklearn.model_selection import train_test_split"
      ]
    },
    {
      "cell_type": "code",
      "source": [
        "from google.colab import drive \n",
        "drive.mount('/content/drive')\n",
        "%cd /content/drive/MyDrive/\n",
        "! mkdir logistic_data\n",
        "!pwd\n",
        "%cd logistic_data/\n",
        "%cp /content/emnist-letters-train.csv /content/drive/MyDrive/logistic_data\n",
        "%cp /content/emnist-letters-test.csv /content/drive/MyDrive/logistic_data\n",
        "! ls"
      ],
      "metadata": {
        "colab": {
          "base_uri": "https://localhost:8080/"
        },
        "id": "JYu-Y7KRFC8z",
        "outputId": "c0b92c4d-cb96-4c09-97fa-fc2969c4404e"
      },
      "execution_count": 2,
      "outputs": [
        {
          "output_type": "stream",
          "name": "stdout",
          "text": [
            "Mounted at /content/drive\n",
            "/content/drive/MyDrive\n",
            "mkdir: cannot create directory ‘logistic_data’: File exists\n",
            "/content/drive/MyDrive\n",
            "/content/drive/MyDrive/logistic_data\n",
            "cp: cannot stat '/content/emnist-letters-train.csv': No such file or directory\n",
            "cp: cannot stat '/content/emnist-letters-test.csv': No such file or directory\n",
            "emnist-letters-test.csv  emnist-letters-train.csv\n"
          ]
        }
      ]
    },
    {
      "cell_type": "code",
      "source": [
        "train=pd.read_csv(\"emnist-letters-train.csv\",header=[0])\n",
        "test=pd.read_csv(\"emnist-letters-test.csv\",header=[0])\n",
        "#train.to_numpy()\n",
        "Y_train=train['23']\n",
        "Y_train=np.vstack(Y_train)\n",
        "X_train = train.iloc[: , 1:]\n",
        "X_train.to_numpy()\n",
        "X_test = test.iloc[: , 1:]\n",
        "Y_test=test['1']\n",
        "\n",
        "print(X_train.shape)\n",
        "\n",
        "print(Y_train.shape)"
      ],
      "metadata": {
        "colab": {
          "base_uri": "https://localhost:8080/"
        },
        "id": "HL4AS_1kFEYo",
        "outputId": "393560c3-f7cc-40a9-f514-c90a8a839eda"
      },
      "execution_count": 3,
      "outputs": [
        {
          "output_type": "stream",
          "name": "stdout",
          "text": [
            "(5969, 784)\n",
            "(5969, 1)\n"
          ]
        }
      ]
    },
    {
      "cell_type": "code",
      "source": [
        ""
      ],
      "metadata": {
        "id": "qi_eKOG94Whc"
      },
      "execution_count": 3,
      "outputs": []
    },
    {
      "cell_type": "code",
      "source": [
        "X_train, x_val, Y_train, y_val = train_test_split(X_train, Y_train, \n",
        "    test_size=0.2, random_state= 8) # splitting train into train and validation "
      ],
      "metadata": {
        "id": "9OcBfYRlk-qL"
      },
      "execution_count": 4,
      "outputs": []
    },
    {
      "cell_type": "code",
      "source": [
        "X_train=np.array(X_train)\n",
        "X_test=np.array(X_test)\n",
        "Y_train=np.array(Y_train)\n",
        "Y_test=np.array(Y_test)\n",
        "# to numpy"
      ],
      "metadata": {
        "id": "knXwg8__FGDi"
      },
      "execution_count": 5,
      "outputs": []
    },
    {
      "cell_type": "code",
      "source": [
        "#Normalization and standardization of data\n",
        "X_train = X_train.astype('float64')\n",
        "X_test = X_test.astype('float64')\n",
        "X_train = X_train / 255.0\n",
        "X_test = X_test / 255.0"
      ],
      "metadata": {
        "id": "44iZkvByFH9K"
      },
      "execution_count": 6,
      "outputs": []
    },
    {
      "cell_type": "code",
      "source": [
        "X_test"
      ],
      "metadata": {
        "id": "6auNWuzkYGiw",
        "colab": {
          "base_uri": "https://localhost:8080/"
        },
        "outputId": "0a5ee2cd-057a-4415-be5b-6881e82638ca"
      },
      "execution_count": 7,
      "outputs": [
        {
          "output_type": "execute_result",
          "data": {
            "text/plain": [
              "array([[ 0.,  0.,  0., ...,  0.,  0.,  0.],\n",
              "       [ 0.,  0.,  0., ...,  0.,  0.,  0.],\n",
              "       [ 0.,  0.,  0., ...,  0.,  0.,  0.],\n",
              "       ...,\n",
              "       [ 0.,  0.,  0., ...,  0.,  0.,  0.],\n",
              "       [ 0.,  0.,  0., ...,  0.,  0.,  0.],\n",
              "       [ 0.,  0.,  0., ..., nan, nan, nan]])"
            ]
          },
          "metadata": {},
          "execution_count": 7
        }
      ]
    },
    {
      "cell_type": "code",
      "source": [
        ""
      ],
      "metadata": {
        "id": "070uqZRDAJ2Z"
      },
      "execution_count": 7,
      "outputs": []
    },
    {
      "cell_type": "code",
      "source": [
        "class DeepNeuralNetwork():\n",
        "    def __init__(NN, size, epochs=10, l_rate=0.01):\n",
        "        NN.size = size\n",
        "        NN.epochs = epochs\n",
        "        NN.l_rate = l_rate # learning rate\n",
        "\n",
        "        # we save all parameters in the neural network in this dictionary\n",
        "        NN.params = NN.initialization()\n",
        "\n",
        "    def sigmoid(x): #sigmoid function \n",
        "      \n",
        "        return 1/(1 + np.exp(-x))\n",
        "\n",
        "    def softmax( x,):\n",
        "        # Numerically stable with large exponentials\n",
        "        exps = np.exp(x - x.max())\n",
        "        \n",
        "        return exps / np.sum(exps, axis=0)\n",
        "\n",
        "    def initialization(NN):\n",
        "        # number of nodes in each layer\n",
        "        input_layer=NN.size[0] \n",
        "        hidden_1=NN.size[1]\n",
        "        hidden_2=NN.size[2]\n",
        "        output_layer=NN.size[3]\n",
        "\n",
        "        params = { #Defining parameters \n",
        "            'W1':np.random.randn(hidden_1, input_layer) * np.sqrt(1 / hidden_1),\n",
        "            'W2':np.random.randn(hidden_2, hidden_1) * np.sqrt(1 / hidden_2),\n",
        "            'W3':np.random.randn(output_layer, hidden_2) * np.sqrt(1 / output_layer)\n",
        "        }\n",
        "\n",
        "        return params\n",
        "\n",
        "    def forward_pass(NN, X_train):  #input to output layer\n",
        "        params = NN.params\n",
        "\n",
        "        #input layer activations becomes sample\n",
        "        params['A0'] = X_train\n",
        "\n",
        "        #input layer to hidden layer 1\n",
        "        params['B0'] = np.dot(params[\"W1\"], params['A0'])\n",
        "        params['A1'] = NN.sigmoid(params['B0'])\n",
        "\n",
        "        #hidden layer 1 to hidden layer 2\n",
        "        params['B1'] = np.dot(params[\"W2\"], params['A1'])\n",
        "        params['A2'] = NN.sigmoid(params['B1'])\n",
        "\n",
        "        #hidden layer 2 to output layer\n",
        "        params['B2'] = np.dot(params[\"W3\"], params['A2'])\n",
        "        params['A3'] = NN.softmax(params['B2'])\n",
        "\n",
        "        return params['A3']\n",
        "\n",
        "    def backward_pass(NN, Y_train, output): # output to input layer, updation of weights\n",
        "       \n",
        "        params = NN.params\n",
        "        change_w = {}\n",
        "\n",
        "        #W3 update\n",
        "        error = 2 * (output - Y_train) / output.shape[0] * NN.softmax(params['B2'])\n",
        "        change_w['W3'] = np.outer(error, params['A2'])\n",
        "\n",
        "        #W2 update\n",
        "        error = np.dot(params['W3'].T, error) * NN.sigmoid(params['B1'])\n",
        "        change_w['W2'] = np.outer(error, params['A1'])\n",
        "\n",
        "        #W1 update\n",
        "        error = np.dot(params['W2'].T, error) * NN.sigmoid(params['B0'])\n",
        "        change_w['W1'] = np.outer(error, params['A0'])\n",
        "\n",
        "        return change_w\n",
        "\n",
        "    def update_network_parameters(NN, changes_to_w):\n",
        "    \n",
        "        for key, value in changes_to_w.items(): #updation of parameters\n",
        "            NN.params[key] -= NN.l_rate * value\n",
        "\n",
        "    def compute_accuracy(NN, x_val, y_val): #accuracy funtion for deep neural network model\n",
        "      \n",
        "        predictions = [] # array to store hypothised predictions \n",
        "\n",
        "        for x, y in zip(x_val, y_val):\n",
        "            output = NN.forward_pass(x)\n",
        "            pred = np.argmax(output) # To find highest probability among the various possible outputs\n",
        "            predictions.append(pred == np.argmax(y)) \n",
        "        \n",
        "        return np.mean(predictions) #mean of all the predicted values\n",
        "\n",
        "    def train(NN, X_train, Y_train, x_val, y_val):\n",
        "        \n",
        "        for iteration in range(NN.epochs):\n",
        "            for x,y in zip(X_train, Y_train): #mapping variables with same value for ease\n",
        "                output = NN.forward_pass(x)\n",
        "                changes_to_w = NN.backward_pass(y, output)\n",
        "                NN.update_network_parameters(changes_to_w)\n",
        "            \n",
        "            accuracy = NN.compute_accuracy(x_val, y_val)\n",
        "            print( accuracy * 100)"
      ],
      "metadata": {
        "id": "xGpgFv3CFOT7"
      },
      "execution_count": 8,
      "outputs": []
    },
    {
      "cell_type": "code",
      "source": [
        "dnn = DeepNeuralNetwork(size=[784, 128, 64, 26]) #converting 784 datapoints into 128, then 64 and finally 26 classes(the alphabet)\n",
        "dnn.train(X_train, Y_train,x_val,y_val) # applying our model on the train data\n"
      ],
      "metadata": {
        "colab": {
          "base_uri": "https://localhost:8080/",
          "height": 328
        },
        "id": "t_NzeNQPGwLd",
        "outputId": "c6925fdb-35f3-4596-f9ec-4dd0976a56fd"
      },
      "execution_count": 9,
      "outputs": [
        {
          "output_type": "error",
          "ename": "TypeError",
          "evalue": "ignored",
          "traceback": [
            "\u001b[0;31m---------------------------------------------------------------------------\u001b[0m",
            "\u001b[0;31mTypeError\u001b[0m                                 Traceback (most recent call last)",
            "\u001b[0;32m<ipython-input-9-26a970185779>\u001b[0m in \u001b[0;36m<module>\u001b[0;34m()\u001b[0m\n\u001b[1;32m      1\u001b[0m \u001b[0mdnn\u001b[0m \u001b[0;34m=\u001b[0m \u001b[0mDeepNeuralNetwork\u001b[0m\u001b[0;34m(\u001b[0m\u001b[0msize\u001b[0m\u001b[0;34m=\u001b[0m\u001b[0;34m[\u001b[0m\u001b[0;36m784\u001b[0m\u001b[0;34m,\u001b[0m \u001b[0;36m128\u001b[0m\u001b[0;34m,\u001b[0m \u001b[0;36m64\u001b[0m\u001b[0;34m,\u001b[0m \u001b[0;36m26\u001b[0m\u001b[0;34m]\u001b[0m\u001b[0;34m)\u001b[0m \u001b[0;31m#converting 784 datapoints into 128, then 64 and finally 26 classes(the alphabet)\u001b[0m\u001b[0;34m\u001b[0m\u001b[0;34m\u001b[0m\u001b[0m\n\u001b[0;32m----> 2\u001b[0;31m \u001b[0mdnn\u001b[0m\u001b[0;34m.\u001b[0m\u001b[0mtrain\u001b[0m\u001b[0;34m(\u001b[0m\u001b[0mX_train\u001b[0m\u001b[0;34m,\u001b[0m \u001b[0mY_train\u001b[0m\u001b[0;34m,\u001b[0m\u001b[0mx_val\u001b[0m\u001b[0;34m,\u001b[0m\u001b[0my_val\u001b[0m\u001b[0;34m)\u001b[0m \u001b[0;31m# applying our model on the train data\u001b[0m\u001b[0;34m\u001b[0m\u001b[0;34m\u001b[0m\u001b[0m\n\u001b[0m",
            "\u001b[0;32m<ipython-input-8-866fc039cc0c>\u001b[0m in \u001b[0;36mtrain\u001b[0;34m(NN, X_train, Y_train, x_val, y_val)\u001b[0m\n\u001b[1;32m     92\u001b[0m         \u001b[0;32mfor\u001b[0m \u001b[0miteration\u001b[0m \u001b[0;32min\u001b[0m \u001b[0mrange\u001b[0m\u001b[0;34m(\u001b[0m\u001b[0mNN\u001b[0m\u001b[0;34m.\u001b[0m\u001b[0mepochs\u001b[0m\u001b[0;34m)\u001b[0m\u001b[0;34m:\u001b[0m\u001b[0;34m\u001b[0m\u001b[0;34m\u001b[0m\u001b[0m\n\u001b[1;32m     93\u001b[0m             \u001b[0;32mfor\u001b[0m \u001b[0mx\u001b[0m\u001b[0;34m,\u001b[0m\u001b[0my\u001b[0m \u001b[0;32min\u001b[0m \u001b[0mzip\u001b[0m\u001b[0;34m(\u001b[0m\u001b[0mX_train\u001b[0m\u001b[0;34m,\u001b[0m \u001b[0mY_train\u001b[0m\u001b[0;34m)\u001b[0m\u001b[0;34m:\u001b[0m \u001b[0;31m#mapping variables with same value for ease\u001b[0m\u001b[0;34m\u001b[0m\u001b[0;34m\u001b[0m\u001b[0m\n\u001b[0;32m---> 94\u001b[0;31m                 \u001b[0moutput\u001b[0m \u001b[0;34m=\u001b[0m \u001b[0mNN\u001b[0m\u001b[0;34m.\u001b[0m\u001b[0mforward_pass\u001b[0m\u001b[0;34m(\u001b[0m\u001b[0mx\u001b[0m\u001b[0;34m)\u001b[0m\u001b[0;34m\u001b[0m\u001b[0;34m\u001b[0m\u001b[0m\n\u001b[0m\u001b[1;32m     95\u001b[0m                 \u001b[0mchanges_to_w\u001b[0m \u001b[0;34m=\u001b[0m \u001b[0mNN\u001b[0m\u001b[0;34m.\u001b[0m\u001b[0mbackward_pass\u001b[0m\u001b[0;34m(\u001b[0m\u001b[0my\u001b[0m\u001b[0;34m,\u001b[0m \u001b[0moutput\u001b[0m\u001b[0;34m)\u001b[0m\u001b[0;34m\u001b[0m\u001b[0;34m\u001b[0m\u001b[0m\n\u001b[1;32m     96\u001b[0m                 \u001b[0mNN\u001b[0m\u001b[0;34m.\u001b[0m\u001b[0mupdate_network_parameters\u001b[0m\u001b[0;34m(\u001b[0m\u001b[0mchanges_to_w\u001b[0m\u001b[0;34m)\u001b[0m\u001b[0;34m\u001b[0m\u001b[0;34m\u001b[0m\u001b[0m\n",
            "\u001b[0;32m<ipython-input-8-866fc039cc0c>\u001b[0m in \u001b[0;36mforward_pass\u001b[0;34m(NN, X_train)\u001b[0m\n\u001b[1;32m     41\u001b[0m         \u001b[0;31m#input layer to hidden layer 1\u001b[0m\u001b[0;34m\u001b[0m\u001b[0;34m\u001b[0m\u001b[0;34m\u001b[0m\u001b[0m\n\u001b[1;32m     42\u001b[0m         \u001b[0mparams\u001b[0m\u001b[0;34m[\u001b[0m\u001b[0;34m'B0'\u001b[0m\u001b[0;34m]\u001b[0m \u001b[0;34m=\u001b[0m \u001b[0mnp\u001b[0m\u001b[0;34m.\u001b[0m\u001b[0mdot\u001b[0m\u001b[0;34m(\u001b[0m\u001b[0mparams\u001b[0m\u001b[0;34m[\u001b[0m\u001b[0;34m\"W1\"\u001b[0m\u001b[0;34m]\u001b[0m\u001b[0;34m,\u001b[0m \u001b[0mparams\u001b[0m\u001b[0;34m[\u001b[0m\u001b[0;34m'A0'\u001b[0m\u001b[0;34m]\u001b[0m\u001b[0;34m)\u001b[0m\u001b[0;34m\u001b[0m\u001b[0;34m\u001b[0m\u001b[0m\n\u001b[0;32m---> 43\u001b[0;31m         \u001b[0mparams\u001b[0m\u001b[0;34m[\u001b[0m\u001b[0;34m'A1'\u001b[0m\u001b[0;34m]\u001b[0m \u001b[0;34m=\u001b[0m \u001b[0mNN\u001b[0m\u001b[0;34m.\u001b[0m\u001b[0msigmoid\u001b[0m\u001b[0;34m(\u001b[0m\u001b[0mparams\u001b[0m\u001b[0;34m[\u001b[0m\u001b[0;34m'B0'\u001b[0m\u001b[0;34m]\u001b[0m\u001b[0;34m)\u001b[0m\u001b[0;34m\u001b[0m\u001b[0;34m\u001b[0m\u001b[0m\n\u001b[0m\u001b[1;32m     44\u001b[0m \u001b[0;34m\u001b[0m\u001b[0m\n\u001b[1;32m     45\u001b[0m         \u001b[0;31m#hidden layer 1 to hidden layer 2\u001b[0m\u001b[0;34m\u001b[0m\u001b[0;34m\u001b[0m\u001b[0;34m\u001b[0m\u001b[0m\n",
            "\u001b[0;31mTypeError\u001b[0m: sigmoid() takes 1 positional argument but 2 were given"
          ]
        }
      ]
    },
    {
      "cell_type": "code",
      "source": [
        ""
      ],
      "metadata": {
        "id": "Ag_T9m7KFUAA"
      },
      "execution_count": null,
      "outputs": []
    },
    {
      "cell_type": "code",
      "source": [
        ""
      ],
      "metadata": {
        "id": "ub-hXux4FWFC"
      },
      "execution_count": null,
      "outputs": []
    },
    {
      "cell_type": "code",
      "source": [
        ""
      ],
      "metadata": {
        "id": "aVMkiFwwFXnS"
      },
      "execution_count": null,
      "outputs": []
    },
    {
      "cell_type": "code",
      "source": [
        ""
      ],
      "metadata": {
        "id": "S6xsqJc9FZom"
      },
      "execution_count": null,
      "outputs": []
    },
    {
      "cell_type": "code",
      "source": [
        ""
      ],
      "metadata": {
        "id": "SwGuD25uFbK2"
      },
      "execution_count": null,
      "outputs": []
    },
    {
      "cell_type": "code",
      "source": [
        ""
      ],
      "metadata": {
        "id": "6g6E2Ez-FdLG"
      },
      "execution_count": null,
      "outputs": []
    },
    {
      "cell_type": "code",
      "source": [
        ""
      ],
      "metadata": {
        "id": "2GxVwcc8Fhrb"
      },
      "execution_count": null,
      "outputs": []
    },
    {
      "cell_type": "code",
      "source": [
        ""
      ],
      "metadata": {
        "id": "nOvaDcDfFjkT"
      },
      "execution_count": null,
      "outputs": []
    },
    {
      "cell_type": "code",
      "source": [
        ""
      ],
      "metadata": {
        "id": "Bt7sijYzFlKH"
      },
      "execution_count": null,
      "outputs": []
    },
    {
      "cell_type": "code",
      "source": [
        ""
      ],
      "metadata": {
        "id": "ZBXdtkujFnQO"
      },
      "execution_count": null,
      "outputs": []
    },
    {
      "cell_type": "code",
      "source": [
        ""
      ],
      "metadata": {
        "id": "trnabFFxFozb"
      },
      "execution_count": null,
      "outputs": []
    },
    {
      "cell_type": "code",
      "source": [
        ""
      ],
      "metadata": {
        "id": "J20KMN27FzBC"
      },
      "execution_count": null,
      "outputs": []
    },
    {
      "cell_type": "code",
      "source": [
        ""
      ],
      "metadata": {
        "id": "xWkIjllvFH_L"
      },
      "execution_count": null,
      "outputs": []
    },
    {
      "cell_type": "code",
      "source": [
        ""
      ],
      "metadata": {
        "id": "E9D3WTi-FIDJ"
      },
      "execution_count": null,
      "outputs": []
    },
    {
      "cell_type": "code",
      "source": [
        ""
      ],
      "metadata": {
        "id": "N266cMKDFIGk"
      },
      "execution_count": null,
      "outputs": []
    }
  ]
}